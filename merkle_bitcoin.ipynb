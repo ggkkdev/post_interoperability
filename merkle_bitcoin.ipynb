{
 "cells": [
  {
   "cell_type": "markdown",
   "id": "chubby-vintage",
   "metadata": {},
   "source": [
    "# Proof of inclusion in Bitcoin"
   ]
  },
  {
   "cell_type": "markdown",
   "id": "violent-listing",
   "metadata": {},
   "source": [
    "This notebook produces the merkle tree of a certain block in bitcoin, produces the proof of inclusion of a transaction and verifies it. "
   ]
  },
  {
   "cell_type": "code",
   "execution_count": 1,
   "id": "minute-parker",
   "metadata": {},
   "outputs": [],
   "source": [
    "import hashlib\n",
    "import codecs\n",
    "import math"
   ]
  },
  {
   "cell_type": "code",
   "execution_count": 2,
   "id": "successful-corner",
   "metadata": {},
   "outputs": [],
   "source": [
    "def decode(v):\n",
    "    '''decode and inverse to little endian'''\n",
    "    return codecs.decode(v, 'hex')[::-1]\n",
    "\n",
    "def hash256(s):\n",
    "    '''two rounds of sha256'''\n",
    "    return hashlib.sha256(hashlib.sha256(s).digest()).digest()\n",
    "\n",
    "def hash2(v):\n",
    "    '''hash two times the value and encode the little endian'''\n",
    "    h= hash256(v)\n",
    "    return codecs.encode(h[::-1], 'hex')"
   ]
  },
  {
   "cell_type": "markdown",
   "id": "exact-helena",
   "metadata": {},
   "source": [
    "## We define the merkle tree class"
   ]
  },
  {
   "cell_type": "code",
   "execution_count": 3,
   "id": "otherwise-leone",
   "metadata": {},
   "outputs": [],
   "source": [
    "class MerkleTree:\n",
    "    def __init__(self,leaves):\n",
    "        self.levels=[]\n",
    "        self.leaves=leaves\n",
    "        self.merkle(leaves)\n",
    "        self.root=self.levels[-1][0]\n",
    "        \n",
    "    '''Hash pairs of items recursively until a single value is obtained'''\n",
    "    def merkle(self,hashList):\n",
    "        self.levels.append(hashList)\n",
    "        hashList=[decode(v) for v in hashList]\n",
    "        if len(hashList) == 1:\n",
    "            return hashList[0]\n",
    "        newHashList = []\n",
    "        # Process pairs. For odd length, the last is skipped\n",
    "        newHashList=[hash2(hashList[i]+ hashList[i+1]) for i in range(0, len(hashList)-1, 2)]\n",
    "        if len(hashList) % 2 == 1: # odd, hash last item twice\n",
    "            newHashList.append(hash2(hashList[-1]+ hashList[-1]))\n",
    "        return self.merkle(newHashList)\n",
    "    \n",
    "    '''Print the tree in readable format'''\n",
    "    def __str__(self):\n",
    "        return \"\\n\".join([\"---\".join([node[:7].decode() for node in lvl]) for lvl in self.levels[::-1]])\n"
   ]
  },
  {
   "cell_type": "markdown",
   "id": "spare-static",
   "metadata": {},
   "source": [
    "## We also define the block that stores the merkle tree"
   ]
  },
  {
   "cell_type": "code",
   "execution_count": 4,
   "id": "sophisticated-franklin",
   "metadata": {},
   "outputs": [],
   "source": [
    "class Block:\n",
    "    def __init__(self, txs):\n",
    "        self.merkleTree=MerkleTree(txs)"
   ]
  },
  {
   "cell_type": "markdown",
   "id": "welsh-tablet",
   "metadata": {},
   "source": [
    "## We define the actors: the full node and light node classes\n",
    "The full node create the blocks with the transactions and the light node checks the validity of the proof of inclusion"
   ]
  },
  {
   "cell_type": "code",
   "execution_count": 5,
   "id": "educated-indicator",
   "metadata": {},
   "outputs": [],
   "source": [
    "'''Full node which creates block and generates the proof of inclusion'''\n",
    "class FullNode:\n",
    "    def __init__(self):\n",
    "        self.blocks=[]\n",
    "        \n",
    "    def createBlock(self,txs):\n",
    "        self.blocks.append(Block(txs))\n",
    "    \n",
    "    '''Create the proof of inclusion of a certain transaction specified by the id'''\n",
    "    def createProof(self,blockIdx, idx, hashList=[], level=0):\n",
    "        _tree=self.blocks[blockIdx].merkleTree\n",
    "        if level==len(_tree.levels)-1:\n",
    "            return hashList\n",
    "        siblingIdx=idx+1 if idx%2==0 else idx-1\n",
    "        hashList.append(_tree.levels[level][siblingIdx])\n",
    "        #print(_hashList)\n",
    "        return self.createProof(blockIdx, math.floor(idx/2),hashList, level+1)\n",
    "        "
   ]
  },
  {
   "cell_type": "code",
   "execution_count": 6,
   "id": "hindu-chair",
   "metadata": {},
   "outputs": [],
   "source": [
    "class LightNode:\n",
    "    '''Returns true if the transaction id is in the tree'''\n",
    "    def checkInclusion(self, inputToCheck, path, idx, trueRoot):\n",
    "        if len(path)==0:\n",
    "            print(\"root calculated: \"+ inputToCheck.decode()+\"\\n true root:\"+trueRoot.decode())\n",
    "            return inputToCheck==trueRoot\n",
    "        vs=[inputToCheck, path[0]]\n",
    "        hashed=hash2(decode(vs[idx%2])+ decode(vs[(idx+1)%2]))\n",
    "        return self.checkInclusion(hashed, path[1:], math.floor(idx/2), trueRoot)"
   ]
  },
  {
   "cell_type": "markdown",
   "id": "stainless-sculpture",
   "metadata": {},
   "source": [
    "## Here we verify the bitcoin block  [170 861](https://blockchair.com/bitcoin/block/170861) validating 8 transactions "
   ]
  },
  {
   "cell_type": "code",
   "execution_count": 7,
   "id": "conditional-queen",
   "metadata": {},
   "outputs": [],
   "source": [
    "txHashes = [\n",
    "b\"338bbd00b893c384eb2b11e70f3875447297c5f20815499e787867df4538e48d\",\n",
    "b\"1ad1138c6064dd17d0a4d12016d629c18f15fc9d1472412945f9c91a696689c7\",\n",
    "b\"c77834d14d66729014b06fcf45c5f82af4bdd9d816e787f01bfa525cfa147014\",\n",
    "b\"bb3d83398d7517fe643b2421d795e73c342b6a478ef53acdaab35dbdffbbcdb5\",\n",
    "b\"38d563caf0e9ed103515cab09e40e49da0ccb8c0765ce304f9556e5bc62e8ff5\",\n",
    "b\"8fc0507359d0122fa14b5887034d857bd69c8bc0e74c8dd428c2fc098595c285\",\n",
    "b\"9db9fe6d011c1c7e997418aeec78ccb659648cfc915b2ff1154cabb41359ac70\",\n",
    "b\"3c72fdb7e38e4437faa9e5789df6b51505de014b062361ef47578244d5025628\"\n",
    "]\n",
    "original_merkle_root=b\"acb5aeb11e2a607e610b90f2722cf68aec719af2a2fd6a6af179764e90169af4\""
   ]
  },
  {
   "cell_type": "markdown",
   "id": "discrete-money",
   "metadata": {},
   "source": [
    "## The full node create the merkle tree with the given transactions ids"
   ]
  },
  {
   "cell_type": "code",
   "execution_count": 8,
   "id": "embedded-lecture",
   "metadata": {},
   "outputs": [],
   "source": [
    "fullNode=FullNode()\n",
    "fullNode.createBlock(txHashes)"
   ]
  },
  {
   "cell_type": "code",
   "execution_count": 9,
   "id": "wrapped-serial",
   "metadata": {},
   "outputs": [
    {
     "name": "stdout",
     "output_type": "stream",
     "text": [
      "acb5aeb\n",
      "e2d23ad---13f0f97\n",
      "8e45845---85b994b---e2c81be---9511f44\n",
      "338bbd0---1ad1138---c77834d---bb3d833---38d563c---8fc0507---9db9fe6---3c72fdb\n"
     ]
    }
   ],
   "source": [
    "print(fullNode.blocks[-1].merkleTree)"
   ]
  },
  {
   "cell_type": "markdown",
   "id": "conventional-detector",
   "metadata": {},
   "source": [
    "![merkletree](merkletree.png)"
   ]
  },
  {
   "cell_type": "markdown",
   "id": "adjusted-acceptance",
   "metadata": {},
   "source": [
    "## Check that the merkle root from our tree is the same as in the real bitcoin"
   ]
  },
  {
   "cell_type": "code",
   "execution_count": 10,
   "id": "inner-teens",
   "metadata": {},
   "outputs": [
    {
     "name": "stdout",
     "output_type": "stream",
     "text": [
      "True\n"
     ]
    }
   ],
   "source": [
    "print(fullNode.blocks[-1].merkleTree.root==original_merkle_root)"
   ]
  },
  {
   "cell_type": "markdown",
   "id": "white-bronze",
   "metadata": {},
   "source": [
    "## Now as a light client we are interested in checking if the third transaction [c77834d...](https://blockchair.com/bitcoin/transaction/338bbd00b893c384eb2b11e70f3875447297c5f20815499e787867df4538e48d) is indeed in the block because we are the receiver.\n",
    "\n"
   ]
  },
  {
   "cell_type": "code",
   "execution_count": 11,
   "id": "hundred-bidder",
   "metadata": {},
   "outputs": [],
   "source": [
    "idxTransactionToCheck=2"
   ]
  },
  {
   "cell_type": "markdown",
   "id": "through-layout",
   "metadata": {},
   "source": [
    "## We ask the full node the proof of inclusion"
   ]
  },
  {
   "cell_type": "code",
   "execution_count": 12,
   "id": "approximate-capture",
   "metadata": {},
   "outputs": [],
   "source": [
    "lightNode=LightNode()\n",
    "tree=fullNode.blocks[-1].merkleTree\n",
    "transactionToCheck=tree.levels[0][idxTransactionToCheck]"
   ]
  },
  {
   "cell_type": "code",
   "execution_count": 13,
   "id": "shaped-editing",
   "metadata": {},
   "outputs": [],
   "source": [
    "proofOfInclusion=fullNode.createProof(-1, idxTransactionToCheck, hashList=[])"
   ]
  },
  {
   "cell_type": "code",
   "execution_count": 14,
   "id": "threatened-proportion",
   "metadata": {},
   "outputs": [
    {
     "name": "stdout",
     "output_type": "stream",
     "text": [
      "['bb3d833', '8e45845', '13f0f97']\n"
     ]
    }
   ],
   "source": [
    "print([h[:7].decode() for h in proofOfInclusion])"
   ]
  },
  {
   "cell_type": "markdown",
   "id": "normal-optimization",
   "metadata": {},
   "source": [
    "![merkleproof](./merkleproof.png)"
   ]
  },
  {
   "cell_type": "markdown",
   "id": "czech-partition",
   "metadata": {},
   "source": [
    "## We can now as a light client check the validity of this proof"
   ]
  },
  {
   "cell_type": "code",
   "execution_count": 15,
   "id": "stone-attachment",
   "metadata": {},
   "outputs": [
    {
     "name": "stdout",
     "output_type": "stream",
     "text": [
      "root calculated: acb5aeb11e2a607e610b90f2722cf68aec719af2a2fd6a6af179764e90169af4\n",
      " true root:acb5aeb11e2a607e610b90f2722cf68aec719af2a2fd6a6af179764e90169af4\n"
     ]
    },
    {
     "data": {
      "text/plain": [
       "True"
      ]
     },
     "execution_count": 15,
     "metadata": {},
     "output_type": "execute_result"
    }
   ],
   "source": [
    "lightNode.checkInclusion(transactionToCheck,proofOfInclusion, idxTransactionToCheck, fullNode.blocks[-1].merkleTree.root)"
   ]
  },
  {
   "cell_type": "markdown",
   "id": "analyzed-wrist",
   "metadata": {},
   "source": [
    "## The payment is verified!"
   ]
  }
 ],
 "metadata": {
  "kernelspec": {
   "display_name": "Python 3",
   "language": "python",
   "name": "python3"
  },
  "language_info": {
   "codemirror_mode": {
    "name": "ipython",
    "version": 3
   },
   "file_extension": ".py",
   "mimetype": "text/x-python",
   "name": "python",
   "nbconvert_exporter": "python",
   "pygments_lexer": "ipython3",
   "version": "3.9.16"
  }
 },
 "nbformat": 4,
 "nbformat_minor": 5
}
